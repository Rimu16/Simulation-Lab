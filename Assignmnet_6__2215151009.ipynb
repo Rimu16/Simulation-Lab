{
  "nbformat": 4,
  "nbformat_minor": 0,
  "metadata": {
    "colab": {
      "provenance": []
    },
    "kernelspec": {
      "name": "python3",
      "display_name": "Python 3"
    },
    "language_info": {
      "name": "python"
    }
  },
  "cells": [
    {
      "cell_type": "markdown",
      "source": [
        "##Farhana Yeasmin Rimu\n",
        "##ID - 2215151009"
      ],
      "metadata": {
        "id": "FDG5CBAHG9kH"
      }
    },
    {
      "cell_type": "markdown",
      "source": [
        "a) Simulating 60 weeks, what is the estimated average order size (show your data or calculations)?\n",
        "\n",
        "b) Based on the simulation, what is the average total cost of “having” the product?"
      ],
      "metadata": {
        "id": "_pX8PqbUHC8B"
      }
    },
    {
      "cell_type": "code",
      "source": [
        "import random\n",
        "\n",
        "# Inputs\n",
        "inventory_levels = [15, 25, 35, 40, 42, 55]\n",
        "probabilities = [0.12, 0.25, 0.35, 0.20, 0.06, 0.02]\n",
        "weeks = 60\n",
        "orders = []\n",
        "holding_costs = []\n",
        "total_costs = []\n",
        "\n",
        "for _ in range(weeks // 2):\n",
        "    inventory = random.choices(inventory_levels, probabilities)[0]\n",
        "    order_size = 100 - inventory\n",
        "    order_cost = 50 + 4 * order_size\n",
        "    holding = inventory * 1\n",
        "    total = order_cost + holding\n",
        "\n",
        "    orders.append(order_size)\n",
        "    holding_costs.append(holding)\n",
        "    total_costs.append(total)\n",
        "\n",
        "# Final answers\n",
        "avg_order_size = sum(orders) / len(orders)\n",
        "avg_total_cost = sum(total_costs) / len(total_costs)\n",
        "\n",
        "print(f\"(a) Average Order Size over 60 weeks: {avg_order_size:.2f} units\")\n",
        "print(f\"(b) Average Total Cost per order: ${avg_total_cost:.2f}\")"
      ],
      "metadata": {
        "colab": {
          "base_uri": "https://localhost:8080/"
        },
        "id": "Rc3qeWRKG-Tc",
        "outputId": "df8d4a93-5466-47b5-8cc3-2ceada35aa26"
      },
      "execution_count": 1,
      "outputs": [
        {
          "output_type": "stream",
          "name": "stdout",
          "text": [
            "(a) Average Order Size over 60 weeks: 68.67 units\n",
            "(b) Average Total Cost per order: $356.00\n"
          ]
        }
      ]
    },
    {
      "cell_type": "markdown",
      "source": [
        "1. Perform a simulation for 200 customers with λ=3and μ=4. Calculate and compare the\n",
        "waiting time and server utilization."
      ],
      "metadata": {
        "id": "PoesWqA3HElQ"
      }
    },
    {
      "cell_type": "code",
      "source": [
        "import numpy as np\n",
        "import matplotlib.pyplot as plt\n",
        "\n",
        "lambda_rate = 3\n",
        "mu_rate = 4\n",
        "n_customers = 200\n",
        "\n",
        "# Step 1: Generate arrival and service times\n",
        "inter_arrival_times = np.random.exponential(1 / lambda_rate, n_customers)\n",
        "service_times = np.random.exponential(1 / mu_rate, n_customers)\n",
        "arrival_times = np.cumsum(inter_arrival_times)\n",
        "\n",
        "start_times = np.zeros(n_customers)\n",
        "end_times = np.zeros(n_customers)\n",
        "\n",
        "start_times[0] = arrival_times[0]\n",
        "end_times[0] = start_times[0] + service_times[0]\n",
        "\n",
        "# Step 2: Simulate queue\n",
        "for i in range(1, n_customers):\n",
        "    start_times[i] = max(arrival_times[i], end_times[i-1])\n",
        "    end_times[i] = start_times[i] + service_times[i]\n",
        "\n",
        "waiting_times = start_times - arrival_times\n",
        "server_utilization = np.sum(service_times) / end_times[-1]\n",
        "avg_waiting_time = np.mean(waiting_times)\n",
        "\n",
        "print(f\"λ=3, μ=4:\")\n",
        "print(f\"Server Utilization: {server_utilization*100:.2f}%\")\n",
        "print(f\"Average Waiting Time: {avg_waiting_time:.2f} units\")"
      ],
      "metadata": {
        "colab": {
          "base_uri": "https://localhost:8080/"
        },
        "id": "fXnYLHXWHGb0",
        "outputId": "0ca23f6a-0393-42f2-ab73-7b5429ac0f02"
      },
      "execution_count": 2,
      "outputs": [
        {
          "output_type": "stream",
          "name": "stdout",
          "text": [
            "λ=3, μ=4:\n",
            "Server Utilization: 77.65%\n",
            "Average Waiting Time: 1.16 units\n"
          ]
        }
      ]
    },
    {
      "cell_type": "markdown",
      "source": [
        "2. Simulate a system with λ=8 and μ=6. Discuss the impact of server overload on system\n",
        "performance."
      ],
      "metadata": {
        "id": "wOKRpu8zHHGI"
      }
    },
    {
      "cell_type": "code",
      "source": [
        "lambda_rate = 8\n",
        "mu_rate = 6\n",
        "\n",
        "inter_arrival_times = np.random.exponential(1 / lambda_rate, n_customers)\n",
        "service_times = np.random.exponential(1 / mu_rate, n_customers)\n",
        "arrival_times = np.cumsum(inter_arrival_times)\n",
        "\n",
        "start_times[0] = arrival_times[0]\n",
        "end_times[0] = start_times[0] + service_times[0]\n",
        "\n",
        "for i in range(1, n_customers):\n",
        "    start_times[i] = max(arrival_times[i], end_times[i-1])\n",
        "    end_times[i] = start_times[i] + service_times[i]\n",
        "\n",
        "waiting_times = start_times - arrival_times\n",
        "server_utilization = np.sum(service_times) / end_times[-1]\n",
        "avg_waiting_time = np.mean(waiting_times)\n",
        "\n",
        "print(f\"\\nλ=8, μ=6 (Overloaded System):\")\n",
        "print(f\"Server Utilization: {server_utilization*100:.2f}%\")\n",
        "print(f\"Average Waiting Time: {avg_waiting_time:.2f} units\")"
      ],
      "metadata": {
        "colab": {
          "base_uri": "https://localhost:8080/"
        },
        "id": "4YfHSqS8HHky",
        "outputId": "c81b3d78-9a11-4abd-f977-36c0a4d39b62"
      },
      "execution_count": 3,
      "outputs": [
        {
          "output_type": "stream",
          "name": "stdout",
          "text": [
            "\n",
            "λ=8, μ=6 (Overloaded System):\n",
            "Server Utilization: 99.98%\n",
            "Average Waiting Time: 5.10 units\n"
          ]
        }
      ]
    },
    {
      "cell_type": "markdown",
      "source": [
        "3. Modify the program to include a limited queue capacity (e.g., maximum 10 customers).\n",
        "Analyze how this affects the performance metrics."
      ],
      "metadata": {
        "id": "m1RRuelXHIE6"
      }
    },
    {
      "cell_type": "code",
      "source": [
        "lambda_rate = 5\n",
        "mu_rate = 6\n",
        "queue_limit = 10\n",
        "\n",
        "inter_arrival_times = np.random.exponential(1 / lambda_rate, n_customers)\n",
        "service_times = np.random.exponential(1 / mu_rate, n_customers)\n",
        "arrival_times = np.cumsum(inter_arrival_times)\n",
        "\n",
        "start_times = []\n",
        "end_times = []\n",
        "waiting_times = []\n",
        "dropped_customers = 0\n",
        "queue = []\n",
        "\n",
        "for i in range(n_customers):\n",
        "    current_time = arrival_times[i]\n",
        "\n",
        "    # Clean up finished customers from the queue\n",
        "    queue = [et for et in queue if et > current_time]\n",
        "\n",
        "    if len(queue) >= queue_limit:\n",
        "        dropped_customers += 1\n",
        "        continue\n",
        "\n",
        "    start = max(current_time, queue[-1] if queue else current_time)\n",
        "    end = start + service_times[i]\n",
        "    queue.append(end)\n",
        "\n",
        "    start_times.append(start)\n",
        "    end_times.append(end)\n",
        "    waiting_times.append(start - current_time)\n",
        "\n",
        "server_utilization = np.sum(service_times[:len(start_times)]) / (end_times[-1] if end_times else 1)\n",
        "avg_waiting_time = np.mean(waiting_times)\n",
        "\n",
        "print(f\"\\nλ=5, μ=6 with Queue Limit = 10:\")\n",
        "print(f\"Customers Served: {len(start_times)}\")\n",
        "print(f\"Customers Dropped: {dropped_customers}\")\n",
        "print(f\"Server Utilization: {server_utilization*100:.2f}%\")\n",
        "print(f\"Average Waiting Time: {avg_waiting_time:.2f} units\")"
      ],
      "metadata": {
        "colab": {
          "base_uri": "https://localhost:8080/"
        },
        "id": "BpP6rxQjHIZ8",
        "outputId": "a68c5770-c7cb-4bb7-9d73-10137d850071"
      },
      "execution_count": 4,
      "outputs": [
        {
          "output_type": "stream",
          "name": "stdout",
          "text": [
            "\n",
            "λ=5, μ=6 with Queue Limit = 10:\n",
            "Customers Served: 177\n",
            "Customers Dropped: 23\n",
            "Server Utilization: 88.65%\n",
            "Average Waiting Time: 0.85 units\n"
          ]
        }
      ]
    }
  ]
}