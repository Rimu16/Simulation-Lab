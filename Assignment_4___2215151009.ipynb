{
  "nbformat": 4,
  "nbformat_minor": 0,
  "metadata": {
    "colab": {
      "provenance": []
    },
    "kernelspec": {
      "name": "python3",
      "display_name": "Python 3"
    },
    "language_info": {
      "name": "python"
    }
  },
  "cells": [
    {
      "cell_type": "markdown",
      "source": [],
      "metadata": {
        "id": "HYtTtGTiQEDA"
      }
    },
    {
      "cell_type": "markdown",
      "source": [
        "###Farhana Yeasmin Rimu\n",
        "\n",
        "###ID - 2215151009"
      ],
      "metadata": {
        "id": "mGYgChGSO-TU"
      }
    },
    {
      "cell_type": "code",
      "source": [
        "import numpy as np\n",
        "import scipy.stats as stats\n",
        "\n",
        "# Generate random samples\n",
        "np.random.seed(42)  # For reproducibility\n",
        "mu1, sigma1 = 50, 5  # Mean and Standard Deviation for Sample 1\n",
        "mu2, sigma2 = 50, 5  # Mean and Standard Deviation for Sample 2\n",
        "\n",
        "data1 = np.random.normal(mu1, sigma1, 50)  # Sample 1\n",
        "data2 = np.random.normal(mu2, sigma2, 50)  # Sample 2\n",
        "\n",
        "# t-test\n",
        "t_statistic, p_value = stats.ttest_ind(data1, data2, equal_var=False)\n",
        "\n",
        "# Compute confidence interval for the mean difference\n",
        "mean_diff = np.mean(data1) - np.mean(data2)\n",
        "std_err = np.sqrt(np.var(data1, ddof=1)/len(data1) + np.var(data2, ddof=1)/len(data2))\n",
        "df = (std_err**4) / ((np.var(data1, ddof=1)/len(data1))**2 / (len(data1)-1) + (np.var(data2, ddof=1)/len(data2))**2 / (len(data2)-1))\n",
        "ci = stats.t.interval(0.95, df, loc=mean_diff, scale=std_err)\n",
        "\n",
        "# Print results\n",
        "print(f\"μ1: {np.mean(data1):.2f}\")\n",
        "print(f\"μ2: {np.mean(data2):.2f}\")\n",
        "print(f\"t-Statistic: {t_statistic:.2f}\")\n",
        "print(f\"Degrees of Freedom: {df:.2f}\")\n",
        "print(f\"p-Value: {p_value:.4f}\")\n",
        "print(f\"Confidence Interval of Mean Difference: [{ci[0]:.2f}, {ci[1]:.2f}]\")\n",
        "\n",
        "alpha = 0.05\n",
        "if p_value < alpha:\n",
        "    print('Reject the null hypothesis. The means of the two samples are significantly different.')\n",
        "else:\n",
        "    print('Fail to reject the null hypothesis. The means of the two samples are not significantly different.')"
      ],
      "metadata": {
        "colab": {
          "base_uri": "https://localhost:8080/"
        },
        "id": "Qeag8f1cQKoN",
        "outputId": "02201e25-46c4-4b1f-e86b-1cab4754aafb"
      },
      "execution_count": 5,
      "outputs": [
        {
          "output_type": "stream",
          "name": "stdout",
          "text": [
            "μ1: 48.87\n",
            "μ2: 50.09\n",
            "t-Statistic: -1.34\n",
            "Degrees of Freedom: 97.58\n",
            "p-Value: 0.1818\n",
            "Confidence Interval of Mean Difference: [-3.01, 0.58]\n",
            "Fail to reject the null hypothesis. The means of the two samples are not significantly different.\n"
          ]
        }
      ]
    },
    {
      "cell_type": "markdown",
      "source": [],
      "metadata": {
        "id": "pr0pkXGgO8WG"
      }
    }
  ]
}