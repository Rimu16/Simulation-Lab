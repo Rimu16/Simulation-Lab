{
  "nbformat": 4,
  "nbformat_minor": 0,
  "metadata": {
    "colab": {
      "provenance": []
    },
    "kernelspec": {
      "name": "python3",
      "display_name": "Python 3"
    },
    "language_info": {
      "name": "python"
    }
  },
  "cells": [
    {
      "cell_type": "code",
      "execution_count": null,
      "metadata": {
        "colab": {
          "base_uri": "https://localhost:8080/"
        },
        "id": "G02gHcMPN2mV",
        "outputId": "de08b7ab-ef13-4178-e89b-3afd73db711f"
      },
      "outputs": [
        {
          "output_type": "stream",
          "name": "stdout",
          "text": [
            "Random 3×3 Matrix:\n",
            " [[ 9 10  1]\n",
            " [43 41 37]\n",
            " [17 37 48]]\n"
          ]
        }
      ],
      "source": [
        "##Question 01:Use numpy to create a 3×3 matrix of random integers between 1 and 50.\n",
        "import numpy as np\n",
        "\n",
        "random_matrix = np.random.randint(1, 50, (3, 3))\n",
        "print(\"Random 3×3 Matrix:\\n\", random_matrix)"
      ]
    },
    {
      "cell_type": "code",
      "source": [
        "##Question 02:With a fixed seed (`np.random.seed(10)`) to ensure reproducibility.\n",
        "\n",
        "# Set seed for reproducibility\n",
        "np.random.seed(10)\n",
        "seeded_matrix = np.random.randint(1, 50, (3, 3))\n",
        "print(\"Matrix With Fixed Seed:\\n\", seeded_matrix)"
      ],
      "metadata": {
        "colab": {
          "base_uri": "https://localhost:8080/"
        },
        "id": "2XrXWnjQOrHq",
        "outputId": "718b25ce-7945-42fe-ccc7-b7b0fb68b3c5"
      },
      "execution_count": null,
      "outputs": [
        {
          "output_type": "stream",
          "name": "stdout",
          "text": [
            "Matrix With Fixed Seed:\n",
            " [[10 37 16]\n",
            " [ 1 29 26]\n",
            " [30 49 30]]\n"
          ]
        }
      ]
    },
    {
      "cell_type": "code",
      "source": [
        "##Question 03:Without setting a seed, allowing random values to change each time.\n",
        "\n",
        "np.random.seed(None)\n",
        "non_seeded_matrix = np.random.randint(1, 50, (3, 3))\n",
        "print(\"Random Matrix Without Seed:\\n\", non_seeded_matrix)"
      ],
      "metadata": {
        "id": "37os0JzFPH2Z",
        "colab": {
          "base_uri": "https://localhost:8080/"
        },
        "outputId": "f937c3fc-ab35-4624-c4cb-1475b6da0116"
      },
      "execution_count": null,
      "outputs": [
        {
          "output_type": "stream",
          "name": "stdout",
          "text": [
            "Random Matrix Without Seed:\n",
            " [[ 4 10 37]\n",
            " [45 35 10]\n",
            " [44  8 21]]\n"
          ]
        }
      ]
    },
    {
      "cell_type": "markdown",
      "source": [
        "\n",
        "\n",
        "## Explanation of the Codes:\n",
        "**For Question 01:**\n",
        "01. This imports the NumPy library, which is used for numerical computing.\n",
        "02. np.random.randint(1, 50, (3, 3)) generates a 3×3 matrix with random integers.\n",
        "03. 1 is the inclusive lower bound.\n",
        "04. 50 is the exclusive upper bound.\n",
        "05. (3, 3) specifies the matrix size.\n",
        "06. Displays the generated 3×3 matrix on the screen.\n",
        "\n",
        "**For Question 02:**\n",
        "01. np.random.seed(10) - random seed to 10, ensuring that the same random numbers are generated each time the code is run.\n",
        "02. Since the seed is fixed, this matrix will always be the same every time you run the code.\n",
        "\n",
        "**For Question 03:**\n",
        "01. np.random.seed(None) - This ensures that the random number generator uses a new random starting point every time the code runs.\n",
        "02. Since no fixed seed is set, the numbers will change every time you run the code.\n",
        "\n",
        "## **Difference Between The Two Output**\n",
        "01. Reproducibility:\n",
        "Seeded: Output is reproducible and consistent across runs.\n",
        "Non-Seeded: Output is not reproducible and changes every time.\n",
        "02. Randomness:\n",
        "Seeded: The sequence of random numbers is deterministic.\n",
        "Non-Seeded: The sequence of random numbers is truly random.\n",
        "03. Use Cases:\n",
        "Seeded: Used when consistent results are needed.\n",
        "Non-Seeded: Used when variability is required."
      ],
      "metadata": {
        "id": "tXSMBPuOg-zl"
      }
    }
  ]
}