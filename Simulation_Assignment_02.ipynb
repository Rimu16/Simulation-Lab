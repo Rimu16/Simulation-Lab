{
  "nbformat": 4,
  "nbformat_minor": 0,
  "metadata": {
    "colab": {
      "provenance": []
    },
    "kernelspec": {
      "name": "python3",
      "display_name": "Python 3"
    },
    "language_info": {
      "name": "python"
    }
  },
  "cells": [
    {
      "cell_type": "code",
      "execution_count": 25,
      "metadata": {
        "colab": {
          "base_uri": "https://localhost:8080/"
        },
        "id": "G02gHcMPN2mV",
        "outputId": "de08b7ab-ef13-4178-e89b-3afd73db711f"
      },
      "outputs": [
        {
          "output_type": "stream",
          "name": "stdout",
          "text": [
            "Random 3×3 Matrix:\n",
            " [[ 9 10  1]\n",
            " [43 41 37]\n",
            " [17 37 48]]\n"
          ]
        }
      ],
      "source": [
        "##Question 01:Use numpy to create a 3×3 matrix of random integers between 1 and 50.\n",
        "import numpy as np\n",
        "\n",
        "random_matrix = np.random.randint(1, 50, (3, 3))\n",
        "print(\"Random 3×3 Matrix:\\n\", random_matrix)"
      ]
    },
    {
      "cell_type": "code",
      "source": [
        "##Question 02:With a fixed seed (`np.random.seed(10)`) to ensure reproducibility.\n",
        "\n",
        "# Set seed for reproducibility\n",
        "np.random.seed(10)\n",
        "seeded_matrix = np.random.randint(1, 50, (3, 3))\n",
        "print(\"Matrix With Fixed Seed:\\n\", seeded_matrix)"
      ],
      "metadata": {
        "colab": {
          "base_uri": "https://localhost:8080/"
        },
        "id": "2XrXWnjQOrHq",
        "outputId": "718b25ce-7945-42fe-ccc7-b7b0fb68b3c5"
      },
      "execution_count": 28,
      "outputs": [
        {
          "output_type": "stream",
          "name": "stdout",
          "text": [
            "Matrix With Fixed Seed:\n",
            " [[10 37 16]\n",
            " [ 1 29 26]\n",
            " [30 49 30]]\n"
          ]
        }
      ]
    },
    {
      "cell_type": "code",
      "source": [
        "##Question 03:Without setting a seed, allowing random values to change each time.\n",
        "\n",
        "np.random.seed(None)\n",
        "non_seeded_matrix = np.random.randint(1, 50, (3, 3))\n",
        "print(\"Random Matrix Without Seed:\\n\", non_seeded_matrix)"
      ],
      "metadata": {
        "id": "37os0JzFPH2Z",
        "colab": {
          "base_uri": "https://localhost:8080/"
        },
        "outputId": "f937c3fc-ab35-4624-c4cb-1475b6da0116"
      },
      "execution_count": 27,
      "outputs": [
        {
          "output_type": "stream",
          "name": "stdout",
          "text": [
            "Random Matrix Without Seed:\n",
            " [[ 4 10 37]\n",
            " [45 35 10]\n",
            " [44  8 21]]\n"
          ]
        }
{
   "cell_type": "markdown",
   "metadata": {},
   "source": [
    "## Explanation of Differences\n",
    "\n",
    "### With a Fixed Seed (`np.random.seed(10)`)\n",
    "- The **same matrix** is generated every time the code runs.\n",
    "- Ensures **consistency**, making it useful for **debugging** and **reproducibility**.\n",
    "- Helps in research and testing where repeatable results are needed.\n",
    "\n",
    "### Without a Seed (`np.random.seed(None)`)\n",
    "- The **matrix values change** each time the code runs.\n",
    "- Useful for scenarios requiring **unpredictability**, such as **simulations** or **randomized experiments**.\n",
    "- Provides variation in results, making it ideal for testing different possibilities."
   ]
  }
      ]
    }
  ]
}
